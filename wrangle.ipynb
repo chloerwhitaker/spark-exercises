{
 "cells": [
  {
   "cell_type": "markdown",
   "id": "3474afc4",
   "metadata": {},
   "source": [
    "# Spark Data Wrangling"
   ]
  },
  {
   "cell_type": "markdown",
   "id": "b47eeea3",
   "metadata": {},
   "source": [
    "Data Acquisition\n",
    "These exercises should go in a notebook or script named wrangle. Add, commit, and push your changes.\n",
    "\n",
    "This exercises uses the case.csv, dept.csv, and source.csv files from the san antonio 311 call dataset."
   ]
  },
  {
   "cell_type": "markdown",
   "id": "acf708c7",
   "metadata": {},
   "source": [
    "1. Read the case, department, and source data into their own spark dataframes."
   ]
  },
  {
   "cell_type": "markdown",
   "id": "d443ebba",
   "metadata": {},
   "source": [
    "2. Let's see how writing to the local disk works in spark:\n",
    "\n",
    "- Write the code necessary to store the source data in both csv and json format, store these as sources_csv and sources_json"
   ]
  },
  {
   "cell_type": "markdown",
   "id": "603404af",
   "metadata": {},
   "source": [
    "- Inspect your folder structure. What do you notice?"
   ]
  },
  {
   "cell_type": "markdown",
   "id": "ef63be54",
   "metadata": {},
   "source": [
    "3. Inspect the data in your dataframes. Are the data types appropriate? Write the code necessary to cast the values to the appropriate types."
   ]
  },
  {
   "cell_type": "code",
   "execution_count": null,
   "id": "879d5d3a",
   "metadata": {},
   "outputs": [],
   "source": []
  }
 ],
 "metadata": {
  "kernelspec": {
   "display_name": "Python 3",
   "language": "python",
   "name": "python3"
  },
  "language_info": {
   "codemirror_mode": {
    "name": "ipython",
    "version": 3
   },
   "file_extension": ".py",
   "mimetype": "text/x-python",
   "name": "python",
   "nbconvert_exporter": "python",
   "pygments_lexer": "ipython3",
   "version": "3.8.8"
  }
 },
 "nbformat": 4,
 "nbformat_minor": 5
}
