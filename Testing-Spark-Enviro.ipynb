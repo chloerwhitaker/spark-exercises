{
 "cells": [
  {
   "cell_type": "markdown",
   "id": "78cb6aec",
   "metadata": {},
   "source": [
    "## Testing the Spark environment"
   ]
  },
  {
   "cell_type": "code",
   "execution_count": 1,
   "id": "456101e9",
   "metadata": {},
   "outputs": [],
   "source": [
    "import pyspark\n",
    "\n",
    "spark = pyspark.sql.SparkSession.builder.getOrCreate()"
   ]
  },
  {
   "cell_type": "code",
   "execution_count": 3,
   "id": "93ad353f",
   "metadata": {},
   "outputs": [],
   "source": [
    "import multiprocessing\n",
    "import pyspark\n",
    "\n",
    "nprocs = multiprocessing.cpu_count()\n",
    "\n",
    "spark = (pyspark.sql.SparkSession.builder\n",
    " .master('local')\n",
    " .config('spark.jars.packages', 'mysql:mysql-connector-java:8.0.16')\n",
    " .config('spark.driver.memory', '4G')\n",
    " .config('spark.driver.cores', nprocs)\n",
    " .config('spark.sql.shuffle.partitions', nprocs)\n",
    " .appName('MySparkApplication')\n",
    " .getOrCreate())\n"
   ]
  },
  {
   "cell_type": "code",
   "execution_count": 4,
   "id": "4e34013d",
   "metadata": {},
   "outputs": [],
   "source": [
    "import pyspark.sql.functions as F"
   ]
  },
  {
   "cell_type": "markdown",
   "id": "74615e0e",
   "metadata": {},
   "source": [
    "### Notes"
   ]
  },
  {
   "cell_type": "markdown",
   "id": "dbfd5b13",
   "metadata": {},
   "source": [
    "#### Spark dataframe manipulation can be broken down into two categories:"
   ]
  },
  {
   "cell_type": "markdown",
   "id": "1681acca",
   "metadata": {},
   "source": [
    "Transformation - is some sort of function. Transforming, egg, or groupby. Transformations don’t run. Represents something it will do but it doesn’t run (like a range function). It doesn’t run until you need it to. (Computer science term for transformation is “lazy”). \n",
    "\n",
    "Action - could be as simple as a print statement. Actions run on the entire df. (Making real the data). An example is counting the rows of data. \n"
   ]
  },
  {
   "cell_type": "code",
   "execution_count": null,
   "id": "4ce66008",
   "metadata": {},
   "outputs": [],
   "source": []
  }
 ],
 "metadata": {
  "kernelspec": {
   "display_name": "Python 3",
   "language": "python",
   "name": "python3"
  },
  "language_info": {
   "codemirror_mode": {
    "name": "ipython",
    "version": 3
   },
   "file_extension": ".py",
   "mimetype": "text/x-python",
   "name": "python",
   "nbconvert_exporter": "python",
   "pygments_lexer": "ipython3",
   "version": "3.8.8"
  }
 },
 "nbformat": 4,
 "nbformat_minor": 5
}
